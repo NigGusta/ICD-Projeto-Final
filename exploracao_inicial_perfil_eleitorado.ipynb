{
 "cells": [
  {
   "cell_type": "code",
   "execution_count": 24,
   "metadata": {},
   "outputs": [],
   "source": [
    "import pandas as pd\n",
    "import plotly.express as px"
   ]
  },
  {
   "cell_type": "code",
   "execution_count": 25,
   "metadata": {},
   "outputs": [
    {
     "data": {
      "text/html": [
       "<div>\n",
       "<style scoped>\n",
       "    .dataframe tbody tr th:only-of-type {\n",
       "        vertical-align: middle;\n",
       "    }\n",
       "\n",
       "    .dataframe tbody tr th {\n",
       "        vertical-align: top;\n",
       "    }\n",
       "\n",
       "    .dataframe thead th {\n",
       "        text-align: right;\n",
       "    }\n",
       "</style>\n",
       "<table border=\"1\" class=\"dataframe\">\n",
       "  <thead>\n",
       "    <tr style=\"text-align: right;\">\n",
       "      <th></th>\n",
       "      <th>ano</th>\n",
       "      <th>sigla_uf</th>\n",
       "      <th>id_municipio</th>\n",
       "      <th>id_municipio_tse</th>\n",
       "      <th>situacao_biometria</th>\n",
       "      <th>zona</th>\n",
       "      <th>secao</th>\n",
       "      <th>genero</th>\n",
       "      <th>estado_civil</th>\n",
       "      <th>grupo_idade</th>\n",
       "      <th>instrucao</th>\n",
       "      <th>eleitores</th>\n",
       "      <th>eleitores_biometria</th>\n",
       "      <th>eleitores_deficiencia</th>\n",
       "      <th>eleitores_inclusao_nome_social</th>\n",
       "    </tr>\n",
       "  </thead>\n",
       "  <tbody>\n",
       "    <tr>\n",
       "      <th>0</th>\n",
       "      <td>2022</td>\n",
       "      <td>PB</td>\n",
       "      <td>2507507</td>\n",
       "      <td>20516</td>\n",
       "      <td>biometrico</td>\n",
       "      <td>76</td>\n",
       "      <td>179</td>\n",
       "      <td>feminino</td>\n",
       "      <td>casado(a)</td>\n",
       "      <td>35 a 39 anos</td>\n",
       "      <td>ensino superior completo</td>\n",
       "      <td>27</td>\n",
       "      <td>26</td>\n",
       "      <td>0</td>\n",
       "      <td>0</td>\n",
       "    </tr>\n",
       "    <tr>\n",
       "      <th>1</th>\n",
       "      <td>2022</td>\n",
       "      <td>PB</td>\n",
       "      <td>2507507</td>\n",
       "      <td>20516</td>\n",
       "      <td>biometrico</td>\n",
       "      <td>77</td>\n",
       "      <td>288</td>\n",
       "      <td>feminino</td>\n",
       "      <td>solteiro(a)</td>\n",
       "      <td>25 a 29 anos</td>\n",
       "      <td>ensino superior incompleto</td>\n",
       "      <td>9</td>\n",
       "      <td>9</td>\n",
       "      <td>0</td>\n",
       "      <td>0</td>\n",
       "    </tr>\n",
       "    <tr>\n",
       "      <th>2</th>\n",
       "      <td>2022</td>\n",
       "      <td>PB</td>\n",
       "      <td>2507507</td>\n",
       "      <td>20516</td>\n",
       "      <td>biometrico</td>\n",
       "      <td>76</td>\n",
       "      <td>10</td>\n",
       "      <td>masculino</td>\n",
       "      <td>casado(a)</td>\n",
       "      <td>50 a 54 anos</td>\n",
       "      <td>ensino superior completo</td>\n",
       "      <td>10</td>\n",
       "      <td>10</td>\n",
       "      <td>0</td>\n",
       "      <td>0</td>\n",
       "    </tr>\n",
       "  </tbody>\n",
       "</table>\n",
       "</div>"
      ],
      "text/plain": [
       "    ano sigla_uf  id_municipio  id_municipio_tse situacao_biometria  zona  \\\n",
       "0  2022       PB       2507507             20516         biometrico    76   \n",
       "1  2022       PB       2507507             20516         biometrico    77   \n",
       "2  2022       PB       2507507             20516         biometrico    76   \n",
       "\n",
       "   secao     genero estado_civil   grupo_idade                   instrucao  \\\n",
       "0    179   feminino    casado(a)  35 a 39 anos    ensino superior completo   \n",
       "1    288   feminino  solteiro(a)  25 a 29 anos  ensino superior incompleto   \n",
       "2     10  masculino    casado(a)  50 a 54 anos    ensino superior completo   \n",
       "\n",
       "   eleitores  eleitores_biometria  eleitores_deficiencia  \\\n",
       "0         27                   26                      0   \n",
       "1          9                    9                      0   \n",
       "2         10                   10                      0   \n",
       "\n",
       "   eleitores_inclusao_nome_social  \n",
       "0                               0  \n",
       "1                               0  \n",
       "2                               0  "
      ]
     },
     "execution_count": 25,
     "metadata": {},
     "output_type": "execute_result"
    }
   ],
   "source": [
    "perfil_secao = pd.read_csv('https://raw.githubusercontent.com/NigGusta/ICD-Projeto-Final/main/csv/perfil_eleitorado_secao_jp.csv')\n",
    "perfil_secao.head(3)"
   ]
  },
  {
   "cell_type": "code",
   "execution_count": 26,
   "metadata": {},
   "outputs": [],
   "source": [
    "perfil_secao.drop(columns=['ano', 'sigla_uf', 'id_municipio', 'id_municipio_tse', 'situacao_biometria'], inplace=True)"
   ]
  },
  {
   "cell_type": "code",
   "execution_count": 28,
   "metadata": {},
   "outputs": [
    {
     "data": {
      "text/plain": [
       "<AxesSubplot:>"
      ]
     },
     "execution_count": 28,
     "metadata": {},
     "output_type": "execute_result"
    },
    {
     "data": {
      "image/png": "[encoded data removed]",
      "text/plain": [
       "<Figure size 432x288 with 1 Axes>"
      ]
     },
     "metadata": {
      "needs_background": "light"
     },
     "output_type": "display_data"
    }
   ],
   "source": [
    "perfil_secao.eleitores.plot(kind='box')"
   ]
  },
  {
   "cell_type": "code",
   "execution_count": null,
   "metadata": {},
   "outputs": [
    {
     "data": {
      "text/html": [
       "<div>\n",
       "<style scoped>\n",
       "    .dataframe tbody tr th:only-of-type {\n",
       "        vertical-align: middle;\n",
       "    }\n",
       "\n",
       "    .dataframe tbody tr th {\n",
       "        vertical-align: top;\n",
       "    }\n",
       "\n",
       "    .dataframe thead th {\n",
       "        text-align: right;\n",
       "    }\n",
       "</style>\n",
       "<table border=\"1\" class=\"dataframe\">\n",
       "  <thead>\n",
       "    <tr style=\"text-align: right;\">\n",
       "      <th></th>\n",
       "      <th>eleitores</th>\n",
       "      <th>eleitores_biometria</th>\n",
       "      <th>eleitores_deficiencia</th>\n",
       "      <th>eleitores_inclusao_nome_social</th>\n",
       "    </tr>\n",
       "  </thead>\n",
       "  <tbody>\n",
       "    <tr>\n",
       "      <th>count</th>\n",
       "      <td>33782.000000</td>\n",
       "      <td>33782.000000</td>\n",
       "      <td>33782.000000</td>\n",
       "      <td>33782.000000</td>\n",
       "    </tr>\n",
       "    <tr>\n",
       "      <th>mean</th>\n",
       "      <td>3.242851</td>\n",
       "      <td>2.355929</td>\n",
       "      <td>0.023800</td>\n",
       "      <td>0.002487</td>\n",
       "    </tr>\n",
       "    <tr>\n",
       "      <th>std</th>\n",
       "      <td>4.973872</td>\n",
       "      <td>5.071737</td>\n",
       "      <td>0.154548</td>\n",
       "      <td>0.052127</td>\n",
       "    </tr>\n",
       "    <tr>\n",
       "      <th>min</th>\n",
       "      <td>1.000000</td>\n",
       "      <td>0.000000</td>\n",
       "      <td>0.000000</td>\n",
       "      <td>0.000000</td>\n",
       "    </tr>\n",
       "    <tr>\n",
       "      <th>25%</th>\n",
       "      <td>1.000000</td>\n",
       "      <td>0.000000</td>\n",
       "      <td>0.000000</td>\n",
       "      <td>0.000000</td>\n",
       "    </tr>\n",
       "    <tr>\n",
       "      <th>50%</th>\n",
       "      <td>1.000000</td>\n",
       "      <td>0.000000</td>\n",
       "      <td>0.000000</td>\n",
       "      <td>0.000000</td>\n",
       "    </tr>\n",
       "    <tr>\n",
       "      <th>75%</th>\n",
       "      <td>2.000000</td>\n",
       "      <td>1.000000</td>\n",
       "      <td>0.000000</td>\n",
       "      <td>0.000000</td>\n",
       "    </tr>\n",
       "    <tr>\n",
       "      <th>max</th>\n",
       "      <td>53.000000</td>\n",
       "      <td>53.000000</td>\n",
       "      <td>2.000000</td>\n",
       "      <td>3.000000</td>\n",
       "    </tr>\n",
       "  </tbody>\n",
       "</table>\n",
       "</div>"
      ],
      "text/plain": [
       "          eleitores  eleitores_biometria  eleitores_deficiencia  \\\n",
       "count  33782.000000         33782.000000           33782.000000   \n",
       "mean       3.242851             2.355929               0.023800   \n",
       "std        4.973872             5.071737               0.154548   \n",
       "min        1.000000             0.000000               0.000000   \n",
       "25%        1.000000             0.000000               0.000000   \n",
       "50%        1.000000             0.000000               0.000000   \n",
       "75%        2.000000             1.000000               0.000000   \n",
       "max       53.000000            53.000000               2.000000   \n",
       "\n",
       "       eleitores_inclusao_nome_social  \n",
       "count                    33782.000000  \n",
       "mean                         0.002487  \n",
       "std                          0.052127  \n",
       "min                          0.000000  \n",
       "25%                          0.000000  \n",
       "50%                          0.000000  \n",
       "75%                          0.000000  \n",
       "max                          3.000000  "
      ]
     },
     "execution_count": 22,
     "metadata": {},
     "output_type": "execute_result"
    }
   ],
   "source": [
    "perfil_secao[['eleitores', 'eleitores_biometria', 'eleitores_deficiencia', 'eleitores_inclusao_nome_social']].describe()"
   ]
  },
  {
   "cell_type": "code",
   "execution_count": null,
   "metadata": {},
   "outputs": [
    {
     "name": "stdout",
     "output_type": "stream",
     "text": [
      "ensino superior completo\n",
      "ensino superior incompleto\n",
      "ensino medio completo\n",
      "ensino medio incompleto\n",
      "ensino fundamental incompleto\n",
      "analfabeto\n",
      "ensino fundamental completo\n",
      "le e escreve\n"
     ]
    }
   ],
   "source": [
    "## Valores unicos na coluna instrucao\n",
    "for i in perfil_secao.instrucao.unique():\n",
    "    print(i)"
   ]
  },
  {
   "cell_type": "code",
   "execution_count": null,
   "metadata": {},
   "outputs": [
    {
     "name": "stdout",
     "output_type": "stream",
     "text": [
      "35 a 39 anos\n",
      "25 a 29 anos\n",
      "50 a 54 anos\n",
      "30 a 34 anos\n",
      "21 a 24 anos\n",
      "40 a 44 anos\n",
      "55 a 59 anos\n",
      "45 a 49 anos\n",
      "60 a 64 anos\n",
      "65 a 69 anos\n",
      "20 anos\n",
      "70 a 74 anos\n",
      "19 anos\n",
      "75 a 79 anos\n",
      "17 anos\n",
      "18 anos\n",
      "16 anos\n",
      "80 a 84 anos\n",
      "85 a 89 anos\n",
      "90 a 94 anos\n",
      "95 a 99 anos\n",
      "100 anos ou mais\n"
     ]
    }
   ],
   "source": [
    "## Valores unicos na coluna grupo_idade\n",
    "for i in perfil_secao.grupo_idade.unique():\n",
    "    print(i)"
   ]
  },
  {
   "cell_type": "code",
   "execution_count": null,
   "metadata": {},
   "outputs": [
    {
     "name": "stdout",
     "output_type": "stream",
     "text": [
      "casado(a)\n",
      "solteiro(a)\n",
      "divorciado(a)\n",
      "viuvo(a)\n"
     ]
    }
   ],
   "source": [
    "## Valores unicos na coluna estado_civik\n",
    "for i in perfil_secao.estado_civil.unique():\n",
    "    print(i)"
   ]
  },
  {
   "cell_type": "code",
   "execution_count": null,
   "metadata": {},
   "outputs": [],
   "source": []
  }
 ],
 "metadata": {
  "kernelspec": {
   "display_name": "Python 3.9.12 ('base')",
   "language": "python",
   "name": "python3"
  },
  "language_info": {
   "codemirror_mode": {
    "name": "ipython",
    "version": 3
   },
   "file_extension": ".py",
   "mimetype": "text/x-python",
   "name": "python",
   "nbconvert_exporter": "python",
   "pygments_lexer": "ipython3",
   "version": "3.9.12"
  },
  "orig_nbformat": 4,
  "vscode": {
   "interpreter": {
    "hash": "3a0de9df006df342b5e4296aedaeaf87f8585c794651fec65fd5881a82402807"
   }
  }
 },
 "nbformat": 4,
 "nbformat_minor": 2
}
