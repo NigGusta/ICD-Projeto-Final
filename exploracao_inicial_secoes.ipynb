{
  "cells": [
    {
      "cell_type": "markdown",
      "metadata": {
        "colab_type": "text",
        "id": "view-in-github"
      },
      "source": [
        "<a href=\"https://colab.research.google.com/github/NigGusta/ICD-Projeto-Final/blob/main/exploracao_inicial_secoes.ipynb\" target=\"_parent\"><img src=\"https://colab.research.google.com/assets/colab-badge.svg\" alt=\"Open In Colab\"/></a>"
      ]
    },
    {
      "cell_type": "code",
      "execution_count": 23,
      "metadata": {
        "id": "rgeQoImS1BE1"
      },
      "outputs": [],
      "source": [
        "import folium\n",
        "import pandas as pd\n",
        "import numpy as np\n",
        "from folium import plugins\n",
        "import plotly as px"
      ]
    },
    {
      "cell_type": "code",
      "execution_count": 2,
      "metadata": {
        "id": "E9l4DWtMKfNn"
      },
      "outputs": [],
      "source": [
        "secoes = pd.read_csv('https://raw.githubusercontent.com/NigGusta/ICD-Projeto-Final/main/csv/secoes_jp.csv')"
      ]
    },
    {
      "cell_type": "code",
      "execution_count": 3,
      "metadata": {
        "colab": {
          "base_uri": "https://localhost:8080/"
        },
        "id": "zNcZJQbcuEsW",
        "outputId": "f6dc84dc-aea8-487f-e2ed-e8a7eb05939c"
      },
      "outputs": [
        {
          "name": "stdout",
          "output_type": "stream",
          "text": [
            "<class 'pandas.core.frame.DataFrame'>\n",
            "RangeIndex: 3222 entries, 0 to 3221\n",
            "Data columns (total 24 columns):\n",
            " #   Column                         Non-Null Count  Dtype  \n",
            "---  ------                         --------------  -----  \n",
            " 0   ano                            3222 non-null   int64  \n",
            " 1   turno                          3222 non-null   int64  \n",
            " 2   sigla_uf                       3222 non-null   object \n",
            " 3   id_municipio                   3222 non-null   int64  \n",
            " 4   id_municipio_tse               3222 non-null   int64  \n",
            " 5   zona                           3222 non-null   int64  \n",
            " 6   secao                          3222 non-null   int64  \n",
            " 7   tipo_secao_agregada            3222 non-null   object \n",
            " 8   numero                         3222 non-null   int64  \n",
            " 9   nome                           3222 non-null   object \n",
            " 10  tipo                           3222 non-null   object \n",
            " 11  endereco                       3222 non-null   object \n",
            " 12  bairro                         3222 non-null   object \n",
            " 13  cep                            3222 non-null   int64  \n",
            " 14  telefone                       1500 non-null   object \n",
            " 15  latitude                       3172 non-null   float64\n",
            " 16  longitude                      3172 non-null   float64\n",
            " 17  situacao                       3222 non-null   object \n",
            " 18  situacao_zona                  3222 non-null   object \n",
            " 19  situacao_secao                 3222 non-null   object \n",
            " 20  situacao_localidade            3222 non-null   object \n",
            " 21  situacao_secao_acessibilidade  3222 non-null   object \n",
            " 22  quantidade_eleitores           3222 non-null   int64  \n",
            " 23  quantidade_eleitores_eleicao   3222 non-null   int64  \n",
            "dtypes: float64(2), int64(10), object(12)\n",
            "memory usage: 604.2+ KB\n"
          ]
        }
      ],
      "source": [
        "secoes.info()"
      ]
    },
    {
      "cell_type": "code",
      "execution_count": 4,
      "metadata": {
        "id": "SJ-4SgqUl86h"
      },
      "outputs": [],
      "source": [
        "# Filtrando apenas as seções do segundo turno\n",
        "secoes = secoes[(secoes.turno==2)]"
      ]
    },
    {
      "cell_type": "code",
      "execution_count": 5,
      "metadata": {},
      "outputs": [
        {
          "data": {
            "text/plain": [
              "<AxesSubplot:>"
            ]
          },
          "execution_count": 5,
          "metadata": {},
          "output_type": "execute_result"
        },
        {
          "data": {
            "image/png": "[encoded data removed]",
            "text/plain": [
              "<Figure size 432x288 with 1 Axes>"
            ]
          },
          "metadata": {
            "needs_background": "light"
          },
          "output_type": "display_data"
        }
      ],
      "source": [
        "secoes.quantidade_eleitores.plot(kind='box')"
      ]
    },
    {
      "cell_type": "code",
      "execution_count": null,
      "metadata": {},
      "outputs": [],
      "source": []
    },
    {
      "cell_type": "code",
      "execution_count": 22,
      "metadata": {},
      "outputs": [
        {
          "data": {
            "text/html": [
              "<div>\n",
              "<style scoped>\n",
              "    .dataframe tbody tr th:only-of-type {\n",
              "        vertical-align: middle;\n",
              "    }\n",
              "\n",
              "    .dataframe tbody tr th {\n",
              "        vertical-align: top;\n",
              "    }\n",
              "\n",
              "    .dataframe thead th {\n",
              "        text-align: right;\n",
              "    }\n",
              "</style>\n",
              "<table border=\"1\" class=\"dataframe\">\n",
              "  <thead>\n",
              "    <tr style=\"text-align: right;\">\n",
              "      <th></th>\n",
              "      <th>turno</th>\n",
              "      <th>zona</th>\n",
              "      <th>secao</th>\n",
              "      <th>latitude</th>\n",
              "      <th>longitude</th>\n",
              "      <th>quantidade_eleitores</th>\n",
              "      <th>quantidade_eleitores_eleicao</th>\n",
              "    </tr>\n",
              "  </thead>\n",
              "  <tbody>\n",
              "    <tr>\n",
              "      <th>count</th>\n",
              "      <td>728.0</td>\n",
              "      <td>728.000000</td>\n",
              "      <td>728.000000</td>\n",
              "      <td>728.000000</td>\n",
              "      <td>728.000000</td>\n",
              "      <td>728.000000</td>\n",
              "      <td>728.000000</td>\n",
              "    </tr>\n",
              "    <tr>\n",
              "      <th>mean</th>\n",
              "      <td>2.0</td>\n",
              "      <td>66.428571</td>\n",
              "      <td>271.704670</td>\n",
              "      <td>-7.141709</td>\n",
              "      <td>-34.860665</td>\n",
              "      <td>352.662088</td>\n",
              "      <td>354.858516</td>\n",
              "    </tr>\n",
              "    <tr>\n",
              "      <th>std</th>\n",
              "      <td>0.0</td>\n",
              "      <td>17.370479</td>\n",
              "      <td>152.679819</td>\n",
              "      <td>0.033642</td>\n",
              "      <td>0.023762</td>\n",
              "      <td>62.547004</td>\n",
              "      <td>110.935539</td>\n",
              "    </tr>\n",
              "    <tr>\n",
              "      <th>min</th>\n",
              "      <td>2.0</td>\n",
              "      <td>1.000000</td>\n",
              "      <td>1.000000</td>\n",
              "      <td>-7.205393</td>\n",
              "      <td>-34.914477</td>\n",
              "      <td>0.000000</td>\n",
              "      <td>0.000000</td>\n",
              "    </tr>\n",
              "    <tr>\n",
              "      <th>25%</th>\n",
              "      <td>2.0</td>\n",
              "      <td>64.000000</td>\n",
              "      <td>156.000000</td>\n",
              "      <td>-7.165675</td>\n",
              "      <td>-34.878005</td>\n",
              "      <td>323.750000</td>\n",
              "      <td>368.750000</td>\n",
              "    </tr>\n",
              "    <tr>\n",
              "      <th>50%</th>\n",
              "      <td>2.0</td>\n",
              "      <td>70.000000</td>\n",
              "      <td>274.000000</td>\n",
              "      <td>-7.145350</td>\n",
              "      <td>-34.858038</td>\n",
              "      <td>373.500000</td>\n",
              "      <td>391.000000</td>\n",
              "    </tr>\n",
              "    <tr>\n",
              "      <th>75%</th>\n",
              "      <td>2.0</td>\n",
              "      <td>76.000000</td>\n",
              "      <td>378.250000</td>\n",
              "      <td>-7.122656</td>\n",
              "      <td>-34.839478</td>\n",
              "      <td>393.000000</td>\n",
              "      <td>402.000000</td>\n",
              "    </tr>\n",
              "    <tr>\n",
              "      <th>max</th>\n",
              "      <td>2.0</td>\n",
              "      <td>77.000000</td>\n",
              "      <td>671.000000</td>\n",
              "      <td>-7.064684</td>\n",
              "      <td>-34.799019</td>\n",
              "      <td>440.000000</td>\n",
              "      <td>463.000000</td>\n",
              "    </tr>\n",
              "  </tbody>\n",
              "</table>\n",
              "</div>"
            ],
            "text/plain": [
              "       turno        zona       secao    latitude   longitude  \\\n",
              "count  728.0  728.000000  728.000000  728.000000  728.000000   \n",
              "mean     2.0   66.428571  271.704670   -7.141709  -34.860665   \n",
              "std      0.0   17.370479  152.679819    0.033642    0.023762   \n",
              "min      2.0    1.000000    1.000000   -7.205393  -34.914477   \n",
              "25%      2.0   64.000000  156.000000   -7.165675  -34.878005   \n",
              "50%      2.0   70.000000  274.000000   -7.145350  -34.858038   \n",
              "75%      2.0   76.000000  378.250000   -7.122656  -34.839478   \n",
              "max      2.0   77.000000  671.000000   -7.064684  -34.799019   \n",
              "\n",
              "       quantidade_eleitores  quantidade_eleitores_eleicao  \n",
              "count            728.000000                    728.000000  \n",
              "mean             352.662088                    354.858516  \n",
              "std               62.547004                    110.935539  \n",
              "min                0.000000                      0.000000  \n",
              "25%              323.750000                    368.750000  \n",
              "50%              373.500000                    391.000000  \n",
              "75%              393.000000                    402.000000  \n",
              "max              440.000000                    463.000000  "
            ]
          },
          "execution_count": 22,
          "metadata": {},
          "output_type": "execute_result"
        }
      ],
      "source": [
        "secoes.describe()"
      ]
    },
    {
      "cell_type": "code",
      "execution_count": 6,
      "metadata": {
        "colab": {
          "base_uri": "https://localhost:8080/"
        },
        "id": "ht5EU2dN3LID",
        "outputId": "bc1e9926-a283-490c-b3ce-d62f2a9ded99"
      },
      "outputs": [
        {
          "name": "stdout",
          "output_type": "stream",
          "text": [
            "64\n",
            "76\n",
            "1\n",
            "70\n",
            "77\n"
          ]
        }
      ],
      "source": [
        "# Quais as zonas eleitorais de João Pessoas?\n",
        "for i in secoes.zona.unique():\n",
        "  print(i)"
      ]
    },
    {
      "cell_type": "code",
      "execution_count": 7,
      "metadata": {
        "colab": {
          "base_uri": "https://localhost:8080/"
        },
        "id": "TM-_leT6pE4a",
        "outputId": "fc394c00-f84c-4e7f-b974-3479159fd516"
      },
      "outputs": [
        {
          "data": {
            "text/plain": [
              "ano                                0\n",
              "turno                              0\n",
              "sigla_uf                           0\n",
              "id_municipio                       0\n",
              "id_municipio_tse                   0\n",
              "zona                               0\n",
              "secao                              0\n",
              "tipo_secao_agregada                0\n",
              "numero                             0\n",
              "nome                               0\n",
              "tipo                               0\n",
              "endereco                           0\n",
              "bairro                             0\n",
              "cep                                0\n",
              "telefone                         861\n",
              "latitude                          25\n",
              "longitude                         25\n",
              "situacao                           0\n",
              "situacao_zona                      0\n",
              "situacao_secao                     0\n",
              "situacao_localidade                0\n",
              "situacao_secao_acessibilidade      0\n",
              "quantidade_eleitores               0\n",
              "quantidade_eleitores_eleicao       0\n",
              "dtype: int64"
            ]
          },
          "execution_count": 7,
          "metadata": {},
          "output_type": "execute_result"
        }
      ],
      "source": [
        "# Verificando os valores nulos\n",
        "secoes.isnull().sum()"
      ]
    },
    {
      "cell_type": "code",
      "execution_count": 8,
      "metadata": {
        "colab": {
          "base_uri": "https://localhost:8080/"
        },
        "id": "c840S1rYu11V",
        "outputId": "268bd10c-ff81-4e28-8325-0fbdfcb46761"
      },
      "outputs": [],
      "source": [
        "#Filtrando os valores nulos\n",
        "secoes.dropna(inplace = True)"
      ]
    },
    {
      "cell_type": "code",
      "execution_count": 9,
      "metadata": {
        "id": "dt7k_pn4l-tb"
      },
      "outputs": [],
      "source": [
        "# Filtrando apenas as colunas de interesse\n",
        "secoes = secoes[['turno', 'zona', 'secao', 'nome', 'endereco', 'bairro', 'latitude', 'longitude', 'situacao',\n",
        "       'situacao_zona', 'situacao_secao', 'situacao_localidade',\n",
        "       'situacao_secao_acessibilidade', 'quantidade_eleitores',\n",
        "       'quantidade_eleitores_eleicao' ]]"
      ]
    },
    {
      "cell_type": "markdown",
      "metadata": {
        "id": "CQF7sSu2fAAM"
      },
      "source": [
        "Quais zonas eleitorais possuem mais eleitores?"
      ]
    },
    {
      "cell_type": "code",
      "execution_count": 10,
      "metadata": {
        "colab": {
          "base_uri": "https://localhost:8080/",
          "height": 281
        },
        "id": "IsenyDz9flD5",
        "outputId": "160aec6b-2c8e-4544-c28b-d3d2ec2d9b9d"
      },
      "outputs": [
        {
          "data": {
            "image/png": "[encoded data removed]",
            "text/plain": [
              "<Figure size 432x288 with 1 Axes>"
            ]
          },
          "metadata": {
            "needs_background": "light"
          },
          "output_type": "display_data"
        }
      ],
      "source": [
        "secoes.groupby('zona')['quantidade_eleitores'].sum().sort_values(ascending = False).head(10).plot(kind='barh', title = 'Quantidade de eleitorais por zona');"
      ]
    },
    {
      "cell_type": "markdown",
      "metadata": {
        "id": "Cz63XmM7ixDh"
      },
      "source": [
        "Quais zonas possuem mais seções com acessibilidade?"
      ]
    },
    {
      "cell_type": "code",
      "execution_count": 11,
      "metadata": {
        "colab": {
          "base_uri": "https://localhost:8080/",
          "height": 281
        },
        "id": "cH9GDgwxivko",
        "outputId": "58af468d-ec83-47bb-90c7-36243a5ac0b9"
      },
      "outputs": [
        {
          "data": {
            "image/png": "[encoded data removed]",
            "text/plain": [
              "<Figure size 432x288 with 1 Axes>"
            ]
          },
          "metadata": {
            "needs_background": "light"
          },
          "output_type": "display_data"
        }
      ],
      "source": [
        "secoes.groupby('bairro')['situacao_secao_acessibilidade'].count().sort_values(ascending = False).head(10).plot(kind='barh', title = 'Quantidade de seções com acessibilidade por bairro');"
      ]
    },
    {
      "cell_type": "markdown",
      "metadata": {
        "id": "H-5HRzTShe8s"
      },
      "source": [
        "Quais seções possuem mais eleitores?"
      ]
    },
    {
      "cell_type": "code",
      "execution_count": 12,
      "metadata": {
        "colab": {
          "base_uri": "https://localhost:8080/",
          "height": 281
        },
        "id": "DiSHTUADhdnn",
        "outputId": "26535999-765e-4cdb-8e96-834870d849ea"
      },
      "outputs": [
        {
          "data": {
            "image/png": "[encoded data removed]",
            "text/plain": [
              "<Figure size 432x288 with 1 Axes>"
            ]
          },
          "metadata": {
            "needs_background": "light"
          },
          "output_type": "display_data"
        }
      ],
      "source": [
        "secoes.groupby('secao')['quantidade_eleitores'].sum().sort_values(ascending = False).head(10).plot(kind='barh', title = 'Quantidade de eleitores por seção');"
      ]
    },
    {
      "cell_type": "markdown",
      "metadata": {
        "id": "oszYPkvBzxsS"
      },
      "source": [
        "Quais os bairros com mais seções eleitorais?"
      ]
    },
    {
      "cell_type": "code",
      "execution_count": 13,
      "metadata": {
        "colab": {
          "base_uri": "https://localhost:8080/",
          "height": 281
        },
        "id": "uhA5P0pjx6Sj",
        "outputId": "a9741fa8-7441-425e-98b7-dacda3dbe3b9"
      },
      "outputs": [
        {
          "data": {
            "image/png": "[encoded data removed]",
            "text/plain": [
              "<Figure size 432x288 with 1 Axes>"
            ]
          },
          "metadata": {
            "needs_background": "light"
          },
          "output_type": "display_data"
        }
      ],
      "source": [
        "secoes.groupby('bairro')['secao'].count().sort_values(ascending = False).head(10).plot(kind='barh', title = 'Quantidade de seções eleitorais por bairro');"
      ]
    },
    {
      "cell_type": "markdown",
      "metadata": {
        "id": "JeptNIE20SBi"
      },
      "source": [
        "Quais os bairros com mais eleitores?"
      ]
    },
    {
      "cell_type": "code",
      "execution_count": 14,
      "metadata": {
        "colab": {
          "base_uri": "https://localhost:8080/",
          "height": 281
        },
        "id": "bjv1AIvfz5t6",
        "outputId": "fd2fb8df-5340-492f-c150-c9b331726363"
      },
      "outputs": [
        {
          "data": {
            "image/png": "[encoded data removed]",
            "text/plain": [
              "<Figure size 432x288 with 1 Axes>"
            ]
          },
          "metadata": {
            "needs_background": "light"
          },
          "output_type": "display_data"
        }
      ],
      "source": [
        "secoes.groupby('bairro')['quantidade_eleitores'].sum().sort_values(ascending = False).head(10).plot(kind='barh', title = 'Quantidade de eleitores por bairro');"
      ]
    },
    {
      "cell_type": "code",
      "execution_count": 15,
      "metadata": {
        "id": "NjKDD2rSmvCs"
      },
      "outputs": [],
      "source": [
        "secoes_coord = secoes[['zona',  'secao', 'bairro', 'latitude', 'longitude', 'quantidade_eleitores']]"
      ]
    },
    {
      "cell_type": "code",
      "execution_count": 16,
      "metadata": {
        "colab": {
          "base_uri": "https://localhost:8080/"
        },
        "id": "2rh5jOrNmu9C",
        "outputId": "2eb8318c-56a4-480d-a23c-a56a489068cf"
      },
      "outputs": [
        {
          "data": {
            "text/plain": [
              "(728, 6)"
            ]
          },
          "execution_count": 16,
          "metadata": {},
          "output_type": "execute_result"
        }
      ],
      "source": [
        "secoes_coord.shape"
      ]
    },
    {
      "cell_type": "code",
      "execution_count": 17,
      "metadata": {
        "id": "KqiXIcc1nEUW"
      },
      "outputs": [],
      "source": [
        "coordenadas = secoes_coord[['latitude', 'longitude',  'quantidade_eleitores']]"
      ]
    },
    {
      "cell_type": "code",
      "execution_count": 18,
      "metadata": {
        "colab": {
          "base_uri": "https://localhost:8080/"
        },
        "id": "TUYFBdLquhUH",
        "outputId": "2e38d980-1399-4e2a-8008-9e1f7d7dadd6"
      },
      "outputs": [
        {
          "name": "stderr",
          "output_type": "stream",
          "text": [
            "C:\\Users\\nield\\AppData\\Local\\Temp\\ipykernel_6696\\4257208966.py:1: SettingWithCopyWarning: \n",
            "A value is trying to be set on a copy of a slice from a DataFrame\n",
            "\n",
            "See the caveats in the documentation: https://pandas.pydata.org/pandas-docs/stable/user_guide/indexing.html#returning-a-view-versus-a-copy\n",
            "  coordenadas.dropna(inplace = True)\n"
          ]
        }
      ],
      "source": [
        "coordenadas.dropna(inplace = True)"
      ]
    },
    {
      "cell_type": "code",
      "execution_count": 19,
      "metadata": {
        "id": "MmxWKVrFKSSd"
      },
      "outputs": [],
      "source": [
        "mapa_secoes = folium.Map(location=[-7.17088, -34.86536],\n",
        "                        width = \"100%\",\n",
        "                        height = \"100%\",\n",
        "                        zoom_start=12, \n",
        "                        control_scale = True) "
      ]
    },
    {
      "cell_type": "code",
      "execution_count": 20,
      "metadata": {
        "id": "jcGbfIV8sQcd"
      },
      "outputs": [],
      "source": [
        "mapa_secoes = mapa_secoes.add_child(plugins.HeatMap(coordenadas))"
      ]
    },
    {
      "cell_type": "code",
      "execution_count": 21,
      "metadata": {
        "colab": {
          "base_uri": "https://localhost:8080/",
          "height": 600
        },
        "id": "oa50I-0ct-oV",
        "outputId": "7c4f50e3-8592-4b7e-dfca-ed3c9b84253f"
      },
      "outputs": [
        {
          "data": {
            "text/html": [
              "<div style=\"width:100%;\"><div style=\"position:relative;width:100%;height:0;padding-bottom:60%;\"><span style=\"color:#565656\">Make this Notebook Trusted to load map: File -> Trust Notebook</span><iframe srcdoc=\"&lt;!DOCTYPE html&gt;\n",
              "&lt;head&gt;    \n",
              "    &lt;meta http-equiv=&quot;content-type&quot; content=&quot;text/html; charset=UTF-8&quot; /&gt;\n",
              "    \n",
              "        &lt;script&gt;\n",
              "            L_NO_TOUCH = false;\n",
              "            L_DISABLE_3D = false;\n",
              "        &lt;/script&gt;\n",
              "    \n",
              "    &lt;style&gt;html, body {width: 100%;height: 100%;margin: 0;padding: 0;}&lt;/style&gt;\n",
              "    &lt;style&gt;#map {position:absolute;top:0;bottom:0;right:0;left:0;}&lt;/style&gt;\n",
              "    &lt;script src=&quot;https://cdn.jsdelivr.net/npm/leaflet@1.6.0/dist/leaflet.js&quot;&gt;&lt;/script&gt;\n",
              "    &lt;script src=&quot;https://code.jquery.com/jquery-1.12.4.min.js&quot;&gt;&lt;/script&gt;\n",
              "    &lt;script src=&quot;https://maxcdn.bootstrapcdn.com/bootstrap/3.2.0/js/bootstrap.min.js&quot;&gt;&lt;/script&gt;\n",
              "    &lt;script src=&quot;https://cdnjs.cloudflare.com/ajax/libs/Leaflet.awesome-markers/2.0.2/leaflet.awesome-markers.js&quot;&gt;&lt;/script&gt;\n",
              "    &lt;link rel=&quot;stylesheet&quot; href=&quot;https://cdn.jsdelivr.net/npm/leaflet@1.6.0/dist/leaflet.css&quot;/&gt;\n",
              "    &lt;link rel=&quot;stylesheet&quot; href=&quot;https://maxcdn.bootstrapcdn.com/bootstrap/3.2.0/css/bootstrap.min.css&quot;/&gt;\n",
              "    &lt;link rel=&quot;stylesheet&quot; href=&quot;https://maxcdn.bootstrapcdn.com/bootstrap/3.2.0/css/bootstrap-theme.min.css&quot;/&gt;\n",
              "    &lt;link rel=&quot;stylesheet&quot; href=&quot;https://maxcdn.bootstrapcdn.com/font-awesome/4.6.3/css/font-awesome.min.css&quot;/&gt;\n",
              "    &lt;link rel=&quot;stylesheet&quot; href=&quot;https://cdnjs.cloudflare.com/ajax/libs/Leaflet.awesome-markers/2.0.2/leaflet.awesome-markers.css&quot;/&gt;\n",
              "    &lt;link rel=&quot;stylesheet&quot; href=&quot;https://cdn.jsdelivr.net/gh/python-visualization/folium/folium/templates/leaflet.awesome.rotate.min.css&quot;/&gt;\n",
              "    \n",
              "            &lt;meta name=&quot;viewport&quot; content=&quot;width=device-width,\n",
              "                initial-scale=1.0, maximum-scale=1.0, user-scalable=no&quot; /&gt;\n",
              "            &lt;style&gt;\n",
              "                #map_d81844b51469c23a93eacb18240b5f9b {\n",
              "                    position: relative;\n",
              "                    width: 100.0%;\n",
              "                    height: 100.0%;\n",
              "                    left: 0.0%;\n",
              "                    top: 0.0%;\n",
              "                }\n",
              "            &lt;/style&gt;\n",
              "        \n",
              "    &lt;script src=&quot;https://cdn.jsdelivr.net/gh/python-visualization/folium@main/folium/templates/leaflet_heat.min.js&quot;&gt;&lt;/script&gt;\n",
              "&lt;/head&gt;\n",
              "&lt;body&gt;    \n",
              "    \n",
              "            &lt;div class=&quot;folium-map&quot; id=&quot;map_d81844b51469c23a93eacb18240b5f9b&quot; &gt;&lt;/div&gt;\n",
              "        \n",
              "&lt;/body&gt;\n",
              "&lt;script&gt;    \n",
              "    \n",
              "            var map_d81844b51469c23a93eacb18240b5f9b = L.map(\n",
              "                &quot;map_d81844b51469c23a93eacb18240b5f9b&quot;,\n",
              "                {\n",
              "                    center: [-7.17088, -34.86536],\n",
              "                    crs: L.CRS.EPSG3857,\n",
              "                    zoom: 12,\n",
              "                    zoomControl: true,\n",
              "                    preferCanvas: false,\n",
              "                }\n",
              "            );\n",
              "            L.control.scale().addTo(map_d81844b51469c23a93eacb18240b5f9b);\n",
              "\n",
              "            \n",
              "\n",
              "        \n",
              "    \n",
              "            var tile_layer_ec1249f1cd3b5dcd5145d4682463b4b9 = L.tileLayer(\n",
              "                &quot;https://{s}.tile.openstreetmap.org/{z}/{x}/{y}.png&quot;,\n",
              "                {&quot;attribution&quot;: &quot;Data by \\u0026copy; \\u003ca href=\\&quot;http://openstreetmap.org\\&quot;\\u003eOpenStreetMap\\u003c/a\\u003e, under \\u003ca href=\\&quot;http://www.openstreetmap.org/copyright\\&quot;\\u003eODbL\\u003c/a\\u003e.&quot;, &quot;detectRetina&quot;: false, &quot;maxNativeZoom&quot;: 18, &quot;maxZoom&quot;: 18, &quot;minZoom&quot;: 0, &quot;noWrap&quot;: false, &quot;opacity&quot;: 1, &quot;subdomains&quot;: &quot;abc&quot;, &quot;tms&quot;: false}\n",
              "            ).addTo(map_d81844b51469c23a93eacb18240b5f9b);\n",
              "        \n",
              "    \n",
              "            var heat_map_37261541fd3eb5000123b2d073e953bb = L.heatLayer(\n",
              "                [[-7.16567517, -34.88111559, 340.0], [-7.0976826, -34.8394782, 422.0], [-7.12469722, -34.89997801, 242.0], [-7.1549563, -34.88418296, 395.0], [-7.16044759, -34.87743387, 440.0], [-7.1052485, -34.83988378, 395.0], [-7.1515459, -34.8375376, 376.0], [-7.16567517, -34.88111559, 344.0], [-7.1579739, -34.8580379, 404.0], [-7.1052485, -34.83988378, 389.0], [-7.1052485, -34.83988378, 392.0], [-7.14412908, -34.87617346, 289.0], [-7.15307803, -34.87848939, 387.0], [-7.16789141, -34.85420375, 390.0], [-7.14900548, -34.87438103, 78.0], [-7.14412908, -34.87617346, 290.0], [-7.1268664, -34.89965742, 214.0], [-7.13689265, -34.88963885, 315.0], [-7.1427803, -34.91338058, 348.0], [-7.12620381, -34.88037477, 297.0], [-7.1548472, -34.8769512, 388.0], [-7.14810386, -34.87067292, 335.0], [-7.16044759, -34.87743387, 433.0], [-7.18122464, -34.8715599, 290.0], [-7.1427803, -34.91338058, 342.0], [-7.14725804, -34.89047789, 392.0], [-7.12901127, -34.87394998, 227.0], [-7.18122464, -34.8715599, 292.0], [-7.16567517, -34.88111559, 139.0], [-7.1515459, -34.8375376, 380.0], [-7.1391866, -34.8211151, 412.0], [-7.1579739, -34.8580379, 401.0], [-7.0925217, -34.8347825, 368.0], [-7.1951335, -34.8808341, 344.0], [-7.1052485, -34.83988378, 387.0], [-7.13689265, -34.88963885, 319.0], [-7.12469722, -34.89997801, 243.0], [-7.14725804, -34.89047789, 390.0], [-7.16044759, -34.87743387, 429.0], [-7.15638651, -34.89088716, 202.0], [-7.1549563, -34.88418296, 401.0], [-7.1427803, -34.91338058, 345.0], [-7.13053876, -34.82801844, 387.0], [-7.12737335, -34.88033919, 365.0], [-7.1549563, -34.88418296, 134.0], [-7.15307803, -34.87848939, 392.0], [-7.1310986, -34.83991111, 338.0], [-7.15525226, -34.88453323, 331.0], [-7.12600728, -34.8989507, 339.0], [-7.1537799, -34.87784299, 342.0], [-7.1515459, -34.8375376, 389.0], [-7.15030055, -34.86996819, 265.0], [-7.1579739, -34.8580379, 398.0], [-7.15377225, -34.87783184, 376.0], [-7.1310986, -34.83991111, 345.0], [-7.1548472, -34.8769512, 386.0], [-7.1082646, -34.8369887, 387.0], [-7.18133673, -34.84191929, 387.0], [-7.1657262, -34.7990189, 382.0], [-7.1657262, -34.7990189, 380.0], [-7.173617, -34.8809274, 389.0], [-7.13689265, -34.88963885, 322.0], [-7.15377225, -34.87783184, 359.0], [-7.1951335, -34.8808341, 342.0], [-7.0976826, -34.8394782, 423.0], [-7.1391866, -34.8211151, 407.0], [-7.18122464, -34.8715599, 292.0], [-7.14810386, -34.87067292, 337.0], [-7.18317083, -34.8656533, 383.0], [-7.14563899, -34.88936873, 239.0], [-7.1418265, -34.8901234, 311.0], [-7.0976826, -34.8394782, 422.0], [-7.15030055, -34.86996819, 267.0], [-7.12255217, -34.83449829, 395.0], [-7.18317083, -34.8656533, 388.0], [-7.1515459, -34.8375376, 382.0], [-7.14412908, -34.87617346, 398.0], [-7.1783849, -34.8969847, 319.0], [-7.18122464, -34.8715599, 291.0], [-7.0925217, -34.8347825, 369.0], [-7.14725804, -34.89047789, 393.0], [-7.13097425, -34.91372298, 295.0], [-7.18317083, -34.8656533, 380.0], [-7.1548472, -34.8769512, 394.0], [-7.12469722, -34.89997801, 239.0], [-7.13053876, -34.82801844, 388.0], [-7.15638651, -34.89088716, 202.0], [-7.12901127, -34.87394998, 229.0], [-7.173617, -34.8809274, 7.0], [-7.14810386, -34.87067292, 335.0], [-7.12600728, -34.8989507, 343.0], [-7.1418265, -34.8901234, 311.0], [-7.12469722, -34.89997801, 241.0], [-7.12600728, -34.8989507, 344.0], [-7.1082646, -34.8369887, 385.0], [-7.1310986, -34.83991111, 342.0], [-7.1657262, -34.7990189, 386.0], [-7.1817794, -34.8848914, 316.0], [-7.13786905, -34.87518644, 309.0], [-7.0804409, -34.8364335, 403.0], [-7.173617, -34.8809274, 393.0], [-7.1052485, -34.83988378, 390.0], [-7.13786905, -34.87518644, 306.0], [-7.12620381, -34.88037477, 295.0], [-7.1537799, -34.87784299, 340.0], [-7.0925217, -34.8347825, 371.0], [-7.1770505, -34.8958727, 327.0], [-7.1427803, -34.91338058, 345.0], [-7.1951335, -34.8808341, 125.0], [-7.12600728, -34.8989507, 341.0], [-7.1657262, -34.7990189, 382.0], [-7.13053876, -34.82801844, 389.0], [-7.12901127, -34.87394998, 230.0], [-7.12901127, -34.87394998, 230.0], [-7.1268664, -34.89965742, 214.0], [-7.1082646, -34.8369887, 389.0], [-7.0804409, -34.8364335, 393.0], [-7.14725804, -34.89047789, 390.0], [-7.0976826, -34.8394782, 425.0], [-7.12469722, -34.89997801, 242.0], [-7.1515459, -34.8375376, 380.0], [-7.15030055, -34.86996819, 263.0], [-7.13689265, -34.88963885, 324.0], [-7.16789141, -34.85420375, 388.0], [-7.14563899, -34.88936873, 304.0], [-7.16044759, -34.87743387, 434.0], [-7.1427803, -34.91338058, 347.0], [-7.16567517, -34.88111559, 336.0], [-7.1082646, -34.8369887, 394.0], [-7.15307803, -34.87848939, 72.0], [-7.0925217, -34.8347825, 376.0], [-7.0976826, -34.8394782, 427.0], [-7.12469722, -34.89997801, 241.0], [-7.15638651, -34.89088716, 200.0], [-7.1537799, -34.87784299, 341.0], [-7.18317083, -34.8656533, 389.0], [-7.15307803, -34.87848939, 388.0], [-7.15307803, -34.87848939, 389.0], [-7.18133673, -34.84191929, 396.0], [-7.1951335, -34.8808341, 349.0], [-7.1549563, -34.88418296, 395.0], [-7.0804409, -34.8364335, 403.0], [-7.1817794, -34.8848914, 303.0], [-7.1770505, -34.8958727, 199.0], [-7.13786905, -34.87518644, 242.0], [-7.1817794, -34.8848914, 304.0], [-7.15056009, -34.87048609, 323.0], [-7.1951335, -34.8808341, 351.0], [-7.18317083, -34.8656533, 386.0], [-7.18317083, -34.8656533, 389.0], [-7.12901127, -34.87394998, 232.0], [-7.12340256, -34.88597688, 355.0], [-7.16044759, -34.87743387, 436.0], [-7.1951335, -34.8808341, 346.0], [-7.15377225, -34.87783184, 364.0], [-7.15638651, -34.89088716, 205.0], [-7.1515459, -34.8375376, 378.0], [-7.16044759, -34.87743387, 437.0], [-7.1548472, -34.8769512, 393.0], [-7.09767882, -34.85589173, 395.0], [-7.1611401, -34.8298509, 0.0], [-7.12340256, -34.88597688, 148.0], [-7.1549563, -34.88418296, 398.0], [-7.14412908, -34.87617346, 390.0], [-7.1391866, -34.8211151, 404.0], [-7.1579739, -34.8580379, 398.0], [-7.14412908, -34.87617346, 397.0], [-7.1052485, -34.83988378, 388.0], [-7.1548472, -34.8769512, 386.0], [-7.1817794, -34.8848914, 288.0], [-7.1268664, -34.89965742, 365.0], [-7.1579739, -34.8580379, 405.0], [-7.09767882, -34.85589173, 391.0], [-7.14725804, -34.89047789, 389.0], [-7.16789141, -34.85420375, 383.0], [-7.13053876, -34.82801844, 390.0], [-7.0925217, -34.8347825, 377.0], [-7.18122464, -34.8715599, 293.0], [-7.15525226, -34.88453323, 336.0], [-7.13097425, -34.91372298, 292.0], [-7.1537799, -34.87784299, 343.0], [-7.18317083, -34.8656533, 386.0], [-7.12620381, -34.88037477, 299.0], [-7.1082646, -34.8369887, 391.0], [-7.1770505, -34.8958727, 201.0], [-7.14900548, -34.87438103, 384.0], [-7.15056009, -34.87048609, 324.0], [-7.15638651, -34.89088716, 206.0], [-7.1579739, -34.8580379, 211.0], [-7.1391866, -34.8211151, 407.0], [-7.15377225, -34.87783184, 364.0], [-7.1391866, -34.8211151, 404.0], [-7.1418265, -34.8901234, 310.0], [-7.18133673, -34.84191929, 392.0], [-7.13786905, -34.87518644, 309.0], [-7.1515459, -34.8375376, 379.0], [-7.1783849, -34.8969847, 318.0], [-7.1783849, -34.8969847, 314.0], [-7.1817794, -34.8848914, 290.0], [-7.09767882, -34.85589173, 391.0], [-7.14412908, -34.87617346, 383.0], [-7.14725804, -34.89047789, 392.0], [-7.12901127, -34.87394998, 222.0], [-7.14810386, -34.87067292, 333.0], [-7.13097425, -34.91372298, 292.0], [-7.15056009, -34.87048609, 324.0], [-7.14412908, -34.87617346, 400.0], [-7.16567517, -34.88111559, 340.0], [-7.0804409, -34.8364335, 390.0], [-7.12600728, -34.8989507, 343.0], [-7.15638651, -34.89088716, 206.0], [-7.1391866, -34.8211151, 399.0], [-7.18122464, -34.8715599, 291.0], [-7.1391866, -34.8211151, 396.0], [-7.15377225, -34.87783184, 364.0], [-7.1579739, -34.8580379, 407.0], [-7.12255217, -34.83449829, 393.0], [-7.12255217, -34.83449829, 391.0], [-7.15525226, -34.88453323, 330.0], [-7.16789141, -34.85420375, 393.0], [-7.13097425, -34.91372298, 292.0], [-7.12255217, -34.83449829, 391.0], [-7.12737335, -34.88033919, 370.0], [-7.15525226, -34.88453323, 334.0], [-7.09767882, -34.85589173, 391.0], [-7.1082646, -34.8369887, 389.0], [-7.1427803, -34.91338058, 347.0], [-7.12737335, -34.88033919, 360.0], [-7.1310986, -34.83991111, 342.0], [-7.16567517, -34.88111559, 342.0], [-7.13689265, -34.88963885, 323.0], [-7.15525226, -34.88453323, 333.0], [-7.12600728, -34.8989507, 339.0], [-7.1082646, -34.8369887, 392.0], [-7.15307803, -34.87848939, 390.0], [-7.13097425, -34.91372298, 292.0], [-7.16789141, -34.85420375, 383.0], [-7.1310986, -34.83991111, 337.0], [-7.16567517, -34.88111559, 336.0], [-7.1549563, -34.88418296, 400.0], [-7.1537799, -34.87784299, 45.0], [-7.16044759, -34.87743387, 431.0], [-7.1427803, -34.91338058, 346.0], [-7.15056009, -34.87048609, 324.0], [-7.1052485, -34.83988378, 393.0], [-7.18133673, -34.84191929, 388.0], [-7.16789141, -34.85420375, 389.0], [-7.14810386, -34.87067292, 336.0], [-7.1418265, -34.8901234, 310.0], [-7.15307803, -34.87848939, 390.0], [-7.1657262, -34.7990189, 382.0], [-7.1052585, -34.8365415, 409.0], [-7.1052585, -34.8365415, 405.0], [-7.1052585, -34.8365415, 127.0], [-7.1052585, -34.8365415, 369.0], [-7.1052585, -34.8365415, 408.0], [-7.1052585, -34.8365415, 414.0], [-7.1052585, -34.8365415, 404.0], [-7.1052585, -34.8365415, 408.0], [-7.1052585, -34.8365415, 415.0], [-7.1052585, -34.8365415, 406.0], [-7.1052585, -34.8365415, 409.0], [-7.1052585, -34.8365415, 413.0], [-7.13359884, -34.87669073, 256.0], [-7.13359884, -34.87669073, 257.0], [-7.13359884, -34.87669073, 257.0], [-7.13359884, -34.87669073, 255.0], [-7.13359884, -34.87669073, 254.0], [-7.13359884, -34.87669073, 254.0], [-7.13359884, -34.87669073, 259.0], [-7.13359884, -34.87669073, 256.0], [-7.13359884, -34.87669073, 256.0], [-7.13359884, -34.87669073, 256.0], [-7.1786571, -34.9144773, 343.0], [-7.1786571, -34.9144773, 340.0], [-7.1786571, -34.9144773, 341.0], [-7.1786571, -34.9144773, 338.0], [-7.1786571, -34.9144773, 331.0], [-7.1786571, -34.9144773, 342.0], [-7.1786571, -34.9144773, 248.0], [-7.1786571, -34.9144773, 341.0], [-7.1786571, -34.9144773, 338.0], [-7.13876853, -34.88683638, 370.0], [-7.13876853, -34.88683638, 364.0], [-7.13876853, -34.88683638, 370.0], [-7.13876853, -34.88683638, 372.0], [-7.13876853, -34.88683638, 371.0], [-7.13876853, -34.88683638, 375.0], [-7.13876853, -34.88683638, 372.0], [-7.13876853, -34.88683638, 369.0], [-7.13876853, -34.88683638, 366.0], [-7.13876853, -34.88683638, 366.0], [-7.13876853, -34.88683638, 374.0], [-7.13876853, -34.88683638, 369.0], [-7.06468415, -34.84182855, 390.0], [-7.06468415, -34.84182855, 393.0], [-7.06468415, -34.84182855, 402.0], [-7.06468415, -34.84182855, 388.0], [-7.06468415, -34.84182855, 392.0], [-7.06468415, -34.84182855, 394.0], [-7.06468415, -34.84182855, 392.0], [-7.06468415, -34.84182855, 397.0], [-7.06468415, -34.84182855, 393.0], [-7.06468415, -34.84182855, 392.0], [-7.06468415, -34.84182855, 393.0], [-7.06468415, -34.84182855, 391.0], [-7.06468415, -34.84182855, 394.0], [-7.06468415, -34.84182855, 394.0], [-7.06468415, -34.84182855, 390.0], [-7.06468415, -34.84182855, 394.0], [-7.06468415, -34.84182855, 400.0], [-7.1515952, -34.89387056, 275.0], [-7.1515952, -34.89387056, 273.0], [-7.1515952, -34.89387056, 279.0], [-7.1515952, -34.89387056, 272.0], [-7.1515952, -34.89387056, 278.0], [-7.1515952, -34.89387056, 275.0], [-7.1515952, -34.89387056, 277.0], [-7.1515952, -34.89387056, 276.0], [-7.1515952, -34.89387056, 271.0], [-7.1146066, -34.8280086, 387.0], [-7.1146066, -34.8280086, 290.0], [-7.1146066, -34.8280086, 394.0], [-7.1146066, -34.8280086, 393.0], [-7.1146066, -34.8280086, 395.0], [-7.1146066, -34.8280086, 389.0], [-7.1146066, -34.8280086, 393.0], [-7.1146066, -34.8280086, 389.0], [-7.1146066, -34.8280086, 394.0], [-7.1146066, -34.8280086, 391.0], [-7.1146066, -34.8280086, 397.0], [-7.1146066, -34.8280086, 388.0], [-7.1146066, -34.8280086, 392.0], [-7.1146066, -34.8280086, 387.0], [-7.1146066, -34.8280086, 396.0], [-7.1146066, -34.8280086, 397.0], [-7.17784669, -34.86739558, 373.0], [-7.17784669, -34.86739558, 371.0], [-7.17784669, -34.86739558, 371.0], [-7.17784669, -34.86739558, 372.0], [-7.17784669, -34.86739558, 374.0], [-7.17784669, -34.86739558, 370.0], [-7.17784669, -34.86739558, 376.0], [-7.17784669, -34.86739558, 375.0], [-7.17784669, -34.86739558, 377.0], [-7.17784669, -34.86739558, 376.0], [-7.17784655, -34.86725102, 396.0], [-7.17784655, -34.86725102, 396.0], [-7.17784655, -34.86725102, 395.0], [-7.17784655, -34.86725102, 395.0], [-7.17784655, -34.86725102, 392.0], [-7.17784655, -34.86725102, 390.0], [-7.17784655, -34.86725102, 396.0], [-7.17784655, -34.86725102, 390.0], [-7.17784655, -34.86725102, 391.0], [-7.17784655, -34.86725102, 393.0], [-7.17784655, -34.86725102, 392.0], [-7.17784655, -34.86725102, 393.0], [-7.17784655, -34.86725102, 393.0], [-7.17784655, -34.86725102, 391.0], [-7.0947942, -34.8456432, 422.0], [-7.0947942, -34.8456432, 422.0], [-7.0947942, -34.8456432, 417.0], [-7.0947942, -34.8456432, 418.0], [-7.0947942, -34.8456432, 416.0], [-7.0947942, -34.8456432, 420.0], [-7.0947942, -34.8456432, 422.0], [-7.0947942, -34.8456432, 418.0], [-7.12265648, -34.88447336, 308.0], [-7.12265648, -34.88447336, 313.0], [-7.12265648, -34.88447336, 309.0], [-7.12265648, -34.88447336, 308.0], [-7.12265648, -34.88447336, 310.0], [-7.12265648, -34.88447336, 308.0], [-7.12265648, -34.88447336, 311.0], [-7.12265648, -34.88447336, 310.0], [-7.11915349, -34.83459053, 337.0], [-7.11915349, -34.83459053, 332.0], [-7.11915349, -34.83459053, 335.0], [-7.11915349, -34.83459053, 334.0], [-7.11915349, -34.83459053, 340.0], [-7.11915349, -34.83459053, 339.0], [-7.11915349, -34.83459053, 337.0], [-7.11915349, -34.83459053, 339.0], [-7.11915349, -34.83459053, 337.0], [-7.17725079, -34.86777985, 289.0], [-7.17725079, -34.86777985, 293.0], [-7.17725079, -34.86777985, 288.0], [-7.17725079, -34.86777985, 289.0], [-7.17725079, -34.86777985, 289.0], [-7.17725079, -34.86777985, 291.0], [-7.17725079, -34.86777985, 287.0], [-7.17725079, -34.86777985, 289.0], [-7.13457832, -34.87337061, 275.0], [-7.13457832, -34.87337061, 29.0], [-7.13457832, -34.87337061, 271.0], [-7.13457832, -34.87337061, 273.0], [-7.13457832, -34.87337061, 274.0], [-7.13457832, -34.87337061, 274.0], [-7.13457832, -34.87337061, 272.0], [-7.13457832, -34.87337061, 272.0], [-7.13457832, -34.87337061, 277.0], [-7.13457832, -34.87337061, 274.0], [-7.13457832, -34.87337061, 272.0], [-7.13457832, -34.87337061, 275.0], [-7.13457832, -34.87337061, 273.0], [-7.13457832, -34.87337061, 268.0], [-7.13457832, -34.87337061, 276.0], [-7.13457832, -34.87337061, 274.0], [-7.13457832, -34.87337061, 275.0], [-7.13457832, -34.87337061, 274.0], [-7.13457832, -34.87337061, 274.0], [-7.13457832, -34.87337061, 276.0], [-7.13457832, -34.87337061, 274.0], [-7.13457832, -34.87337061, 271.0], [-7.13457832, -34.87337061, 273.0], [-7.12502378, -34.8855611, 280.0], [-7.12948332, -34.88696567, 286.0], [-7.12502378, -34.8855611, 227.0], [-7.12948332, -34.88696567, 285.0], [-7.12948332, -34.88696567, 286.0], [-7.12502378, -34.8855611, 228.0], [-7.12948332, -34.88696567, 284.0], [-7.12948332, -34.88696567, 287.0], [-7.12948332, -34.88696567, 282.0], [-7.12502378, -34.8855611, 229.0], [-7.080398, -34.8375771, 405.0], [-7.080398, -34.8375771, 404.0], [-7.080398, -34.8375771, 407.0], [-7.080398, -34.8375771, 399.0], [-7.080398, -34.8375771, 401.0], [-7.080398, -34.8375771, 402.0], [-7.080398, -34.8375771, 407.0], [-7.080398, -34.8375771, 404.0], [-7.080398, -34.8375771, 405.0], [-7.080398, -34.8375771, 412.0], [-7.080398, -34.8375771, 403.0], [-7.1634099, -34.82780512, 404.0], [-7.1634099, -34.82780512, 401.0], [-7.1634099, -34.82780512, 404.0], [-7.1634099, -34.82780512, 400.0], [-7.1634099, -34.82780512, 393.0], [-7.1634099, -34.82780512, 394.0], [-7.1634099, -34.82780512, 397.0], [-7.1634099, -34.82780512, 403.0], [-7.1634099, -34.82780512, 402.0], [-7.2053935, -34.8575903, 353.0], [-7.2053935, -34.8575903, 345.0], [-7.2053935, -34.8575903, 358.0], [-7.2053935, -34.8575903, 347.0], [-7.2053935, -34.8575903, 350.0], [-7.2053935, -34.8575903, 355.0], [-7.2053935, -34.8575903, 348.0], [-7.2053935, -34.8575903, 343.0], [-7.2053935, -34.8575903, 345.0], [-7.2053935, -34.8575903, 345.0], [-7.2053935, -34.8575903, 354.0], [-7.2053935, -34.8575903, 360.0], [-7.2053935, -34.8575903, 348.0], [-7.2053935, -34.8575903, 353.0], [-7.2053935, -34.8575903, 357.0], [-7.2053935, -34.8575903, 349.0], [-7.2053935, -34.8575903, 342.0], [-7.2053935, -34.8575903, 349.0], [-7.2053935, -34.8575903, 384.0], [-7.2053935, -34.8575903, 351.0], [-7.2053935, -34.8575903, 344.0], [-7.16870842, -34.83055484, 396.0], [-7.16870842, -34.83055484, 390.0], [-7.16870842, -34.83055484, 393.0], [-7.16870842, -34.83055484, 392.0], [-7.16870842, -34.83055484, 195.0], [-7.16870842, -34.83055484, 394.0], [-7.16870842, -34.83055484, 387.0], [-7.16870842, -34.83055484, 391.0], [-7.14965938, -34.89317474, 387.0], [-7.14965938, -34.89317474, 387.0], [-7.14965938, -34.89317474, 389.0], [-7.14965938, -34.89317474, 386.0], [-7.14965938, -34.89317474, 387.0], [-7.14965938, -34.89317474, 391.0], [-7.14965938, -34.89317474, 386.0], [-7.14965938, -34.89317474, 386.0], [-7.14965938, -34.89317474, 392.0], [-7.14965938, -34.89317474, 393.0], [-7.14965938, -34.89317474, 393.0], [-7.14965938, -34.89317474, 392.0], [-7.14965938, -34.89317474, 391.0], [-7.14965938, -34.89317474, 393.0], [-7.14880992, -34.8362022, 368.0], [-7.14880992, -34.8362022, 373.0], [-7.14880992, -34.8362022, 366.0], [-7.14880992, -34.8362022, 377.0], [-7.14880992, -34.8362022, 374.0], [-7.14880992, -34.8362022, 378.0], [-7.14880992, -34.8362022, 372.0], [-7.14880992, -34.8362022, 372.0], [-7.14880992, -34.8362022, 368.0], [-7.14880992, -34.8362022, 380.0], [-7.14880992, -34.8362022, 371.0], [-7.14880992, -34.8362022, 370.0], [-7.14880992, -34.8362022, 366.0], [-7.14880992, -34.8362022, 371.0], [-7.14880992, -34.8362022, 365.0], [-7.14880992, -34.8362022, 371.0], [-7.14880992, -34.8362022, 375.0], [-7.17003641, -34.88835079, 310.0], [-7.17003641, -34.88835079, 314.0], [-7.17003641, -34.88835079, 316.0], [-7.17003641, -34.88835079, 313.0], [-7.17003641, -34.88835079, 314.0], [-7.17003641, -34.88835079, 313.0], [-7.17003641, -34.88835079, 307.0], [-7.17003641, -34.88835079, 313.0], [-7.17003641, -34.88835079, 311.0], [-7.08993401, -34.83910711, 396.0], [-7.08993401, -34.83910711, 397.0], [-7.08993401, -34.83910711, 397.0], [-7.08993401, -34.83910711, 404.0], [-7.08993401, -34.83910711, 398.0], [-7.08993401, -34.83910711, 404.0], [-7.08993401, -34.83910711, 398.0], [-7.08993401, -34.83910711, 392.0], [-7.08993401, -34.83910711, 399.0], [-7.15717548, -34.87416583, 338.0], [-7.15717548, -34.87416583, 337.0], [-7.15717548, -34.87416583, 339.0], [-7.15717548, -34.87416583, 340.0], [-7.15717548, -34.87416583, 335.0], [-7.15717548, -34.87416583, 336.0], [-7.15717548, -34.87416583, 338.0], [-7.15717548, -34.87416583, 335.0], [-7.15717548, -34.87416583, 337.0], [-7.15717548, -34.87416583, 335.0], [-7.15717548, -34.87416583, 349.0], [-7.13855756, -34.8179175, 372.0], [-7.13855756, -34.8179175, 363.0], [-7.13855756, -34.8179175, 370.0], [-7.13855756, -34.8179175, 291.0], [-7.13855756, -34.8179175, 356.0], [-7.13855756, -34.8179175, 359.0], [-7.13855756, -34.8179175, 363.0], [-7.13855756, -34.8179175, 353.0], [-7.16609896, -34.84107628, 392.0], [-7.16609896, -34.84107628, 393.0], [-7.16609896, -34.84107628, 388.0], [-7.16609896, -34.84107628, 393.0], [-7.16609896, -34.84107628, 398.0], [-7.16609896, -34.84107628, 409.0], [-7.16609896, -34.84107628, 398.0], [-7.16609896, -34.84107628, 230.0], [-7.16609896, -34.84107628, 397.0], [-7.1453504, -34.8427885, 375.0], [-7.1453504, -34.8427885, 380.0], [-7.1453504, -34.8427885, 380.0], [-7.1453504, -34.8427885, 384.0], [-7.1453504, -34.8427885, 377.0], [-7.1453504, -34.8427885, 386.0], [-7.1453504, -34.8427885, 385.0], [-7.1453504, -34.8427885, 388.0], [-7.1579291, -34.8729289, 435.0], [-7.1579291, -34.8729289, 436.0], [-7.1579291, -34.8729289, 437.0], [-7.1579291, -34.8729289, 434.0], [-7.1579291, -34.8729289, 436.0], [-7.1579291, -34.8729289, 437.0], [-7.1579291, -34.8729289, 435.0], [-7.1579291, -34.8729289, 436.0], [-7.1579291, -34.8729289, 433.0], [-7.1579291, -34.8729289, 434.0], [-7.1579291, -34.8729289, 431.0], [-7.1579291, -34.8729289, 434.0], [-7.1579291, -34.8729289, 435.0], [-7.1579291, -34.8729289, 430.0], [-7.1579291, -34.8729289, 430.0], [-7.20027904, -34.84840018, 394.0], [-7.20027904, -34.84840018, 393.0], [-7.20027904, -34.84840018, 385.0], [-7.20027904, -34.84840018, 391.0], [-7.20027904, -34.84840018, 391.0], [-7.20027904, -34.84840018, 385.0], [-7.20027904, -34.84840018, 395.0], [-7.20027904, -34.84840018, 384.0], [-7.20027904, -34.84840018, 391.0], [-7.20027904, -34.84840018, 391.0], [-7.20027904, -34.84840018, 328.0], [-7.20027904, -34.84840018, 394.0], [-7.20027904, -34.84840018, 411.0], [-7.1771244, -34.86910415, 367.0], [-7.1771244, -34.86910415, 367.0], [-7.1771244, -34.86910415, 367.0], [-7.1771244, -34.86910415, 367.0], [-7.1771244, -34.86910415, 367.0], [-7.1771244, -34.86910415, 362.0], [-7.1771244, -34.86910415, 366.0], [-7.1771244, -34.86910415, 362.0], [-7.1771244, -34.86910415, 368.0], [-7.1771244, -34.86910415, 364.0], [-7.1771244, -34.86910415, 367.0], [-7.1771244, -34.86910415, 369.0], [-7.1771244, -34.86910415, 364.0], [-7.17552408, -34.85714453, 395.0], [-7.17552408, -34.85714453, 386.0], [-7.17552408, -34.85714453, 383.0], [-7.17552408, -34.85714453, 391.0], [-7.17552408, -34.85714453, 391.0], [-7.17552408, -34.85714453, 389.0], [-7.17552408, -34.85714453, 271.0], [-7.17552408, -34.85714453, 413.0], [-7.17552408, -34.85714453, 389.0], [-7.1410834, -34.84894814, 389.0], [-7.1410834, -34.84894814, 388.0], [-7.1410834, -34.84894814, 388.0], [-7.1410834, -34.84894814, 388.0], [-7.1410834, -34.84894814, 391.0], [-7.1410834, -34.84894814, 387.0], [-7.1410834, -34.84894814, 387.0], [-7.1410834, -34.84894814, 382.0], [-7.1410834, -34.84894814, 389.0], [-7.1410834, -34.84894814, 392.0], [-7.1410834, -34.84894814, 389.0], [-7.1410834, -34.84894814, 384.0], [-7.1410834, -34.84894814, 390.0], [-7.1410834, -34.84894814, 385.0], [-7.1410834, -34.84894814, 386.0], [-7.1410834, -34.84894814, 388.0], [-7.1410834, -34.84894814, 389.0], [-7.1410834, -34.84894814, 387.0], [-7.1410834, -34.84894814, 386.0], [-7.1410834, -34.84894814, 383.0], [-7.1410834, -34.84894814, 390.0], [-7.1410834, -34.84894814, 389.0], [-7.1410834, -34.84894814, 391.0], [-7.1410834, -34.84894814, 382.0], [-7.1410834, -34.84894814, 386.0], [-7.07696201, -34.842122, 405.0], [-7.07696201, -34.842122, 407.0], [-7.07696201, -34.842122, 411.0], [-7.07696201, -34.842122, 406.0], [-7.07696201, -34.842122, 406.0], [-7.07696201, -34.842122, 198.0], [-7.07696201, -34.842122, 412.0], [-7.07696201, -34.842122, 411.0], [-7.07696201, -34.842122, 410.0], [-7.07696201, -34.842122, 394.0], [-7.07696201, -34.842122, 410.0], [-7.07696201, -34.842122, 411.0], [-7.07696201, -34.842122, 408.0], [-7.07696201, -34.842122, 414.0], [-7.07696201, -34.842122, 412.0], [-7.07696201, -34.842122, 406.0], [-7.07696201, -34.842122, 410.0], [-7.07696201, -34.842122, 409.0], [-7.1109642, -34.82811349, 393.0], [-7.1109642, -34.82811349, 388.0], [-7.1109642, -34.82811349, 390.0], [-7.1109642, -34.82811349, 394.0], [-7.1109642, -34.82811349, 394.0], [-7.1109642, -34.82811349, 393.0], [-7.1109642, -34.82811349, 391.0], [-7.1109642, -34.82811349, 390.0], [-7.15858968, -34.83573725, 367.0], [-7.15858968, -34.83573725, 361.0], [-7.15858968, -34.83573725, 363.0], [-7.15858968, -34.83573725, 371.0], [-7.15858968, -34.83573725, 361.0], [-7.15858968, -34.83573725, 372.0], [-7.15858968, -34.83573725, 361.0], [-7.15858968, -34.83573725, 365.0], [-7.15858968, -34.83573725, 368.0], [-7.15858968, -34.83573725, 368.0], [-7.15858968, -34.83573725, 369.0], [-7.15858968, -34.83573725, 362.0], [-7.15858968, -34.83573725, 365.0], [-7.15858968, -34.83573725, 373.0], [-7.15858968, -34.83573725, 356.0], [-7.15858968, -34.83573725, 359.0], [-7.15858968, -34.83573725, 368.0], [-7.15858968, -34.83573725, 367.0], [-7.10425316, -34.84583745, 250.0], [-7.10425316, -34.84583745, 251.0], [-7.10425316, -34.84583745, 308.0], [-7.10425316, -34.84583745, 256.0], [-7.10425316, -34.84583745, 250.0], [-7.10425316, -34.84583745, 255.0], [-7.10425316, -34.84583745, 271.0], [-7.10425316, -34.84583745, 249.0], [-7.10425316, -34.84583745, 308.0], [-7.10425316, -34.84583745, 250.0], [-7.10425316, -34.84583745, 259.0], [-7.10425316, -34.84583745, 258.0], [-7.07432535, -34.83922907, 388.0], [-7.07432535, -34.83922907, 392.0], [-7.07432535, -34.83922907, 392.0], [-7.07432535, -34.83922907, 385.0], [-7.07432535, -34.83922907, 393.0], [-7.07432535, -34.83922907, 390.0], [-7.07432535, -34.83922907, 391.0], [-7.07432535, -34.83922907, 382.0], [-7.07432535, -34.83922907, 384.0], [-7.07432535, -34.83922907, 387.0], [-7.07432535, -34.83922907, 384.0], [-7.1988533, -34.8847445, 373.0], [-7.1988533, -34.8847445, 339.0], [-7.1988533, -34.8847445, 349.0], [-7.1988533, -34.8847445, 349.0], [-7.1988533, -34.8847445, 333.0], [-7.1988533, -34.8847445, 330.0], [-7.1988533, -34.8847445, 311.0], [-7.1988533, -34.8847445, 354.0], [-7.12414644, -34.84701379, 318.0], [-7.12414644, -34.84701379, 320.0], [-7.12414644, -34.84701379, 320.0], [-7.12414644, -34.84701379, 316.0], [-7.12414644, -34.84701379, 319.0], [-7.12414644, -34.84701379, 318.0], [-7.12414644, -34.84701379, 321.0], [-7.12414644, -34.84701379, 313.0], [-7.12414644, -34.84701379, 318.0], [-7.12414644, -34.84701379, 320.0], [-7.09996175, -34.87005962, 437.0], [-7.09996175, -34.87005962, 427.0], [-7.09996175, -34.87005962, 437.0], [-7.09996175, -34.87005962, 425.0], [-7.09996175, -34.87005962, 428.0], [-7.09996175, -34.87005962, 433.0], [-7.09996175, -34.87005962, 431.0], [-7.09996175, -34.87005962, 427.0]],\n",
              "                {&quot;blur&quot;: 15, &quot;maxZoom&quot;: 18, &quot;minOpacity&quot;: 0.5, &quot;radius&quot;: 25}\n",
              "            ).addTo(map_d81844b51469c23a93eacb18240b5f9b);\n",
              "        \n",
              "&lt;/script&gt;\" style=\"position:absolute;width:100%;height:100%;left:0;top:0;border:none !important;\" allowfullscreen webkitallowfullscreen mozallowfullscreen></iframe></div></div>"
            ],
            "text/plain": [
              "<folium.folium.Map at 0x1ffa3b8e040>"
            ]
          },
          "execution_count": 21,
          "metadata": {},
          "output_type": "execute_result"
        }
      ],
      "source": [
        "# mapa de calor da quantidade de eleitores por seção eleitoral\n",
        "mapa_secoes"
      ]
    },
    {
      "cell_type": "code",
      "execution_count": null,
      "metadata": {
        "id": "u-XJCysyvOoc"
      },
      "outputs": [],
      "source": []
    }
  ],
  "metadata": {
    "colab": {
      "authorship_tag": "ABX9TyOOO5WRUSvdw8oUjy8AICQx",
      "collapsed_sections": [],
      "include_colab_link": true,
      "provenance": []
    },
    "kernelspec": {
      "display_name": "Python 3.9.12 ('base')",
      "language": "python",
      "name": "python3"
    },
    "language_info": {
      "codemirror_mode": {
        "name": "ipython",
        "version": 3
      },
      "file_extension": ".py",
      "mimetype": "text/x-python",
      "name": "python",
      "nbconvert_exporter": "python",
      "pygments_lexer": "ipython3",
      "version": "3.9.12"
    },
    "vscode": {
      "interpreter": {
        "hash": "3a0de9df006df342b5e4296aedaeaf87f8585c794651fec65fd5881a82402807"
      }
    }
  },
  "nbformat": 4,
  "nbformat_minor": 0
}
