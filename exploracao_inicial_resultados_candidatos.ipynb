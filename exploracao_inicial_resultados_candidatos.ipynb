{
 "cells": [
  {
   "cell_type": "code",
   "execution_count": 15,
   "metadata": {},
   "outputs": [],
   "source": [
    "import pandas as pd\n",
    "import seaborn as sns\n",
    "import matplotlib.pyplot as plt"
   ]
  },
  {
   "cell_type": "code",
   "execution_count": 16,
   "metadata": {},
   "outputs": [
    {
     "data": {
      "text/html": [
       "<div>\n",
       "<style scoped>\n",
       "    .dataframe tbody tr th:only-of-type {\n",
       "        vertical-align: middle;\n",
       "    }\n",
       "\n",
       "    .dataframe tbody tr th {\n",
       "        vertical-align: top;\n",
       "    }\n",
       "\n",
       "    .dataframe thead th {\n",
       "        text-align: right;\n",
       "    }\n",
       "</style>\n",
       "<table border=\"1\" class=\"dataframe\">\n",
       "  <thead>\n",
       "    <tr style=\"text-align: right;\">\n",
       "      <th></th>\n",
       "      <th>ano</th>\n",
       "      <th>turno</th>\n",
       "      <th>tipo_eleicao</th>\n",
       "      <th>sigla_uf</th>\n",
       "      <th>id_municipio</th>\n",
       "      <th>id_municipio_tse</th>\n",
       "      <th>zona</th>\n",
       "      <th>secao</th>\n",
       "      <th>cargo</th>\n",
       "      <th>numero_partido</th>\n",
       "      <th>sigla_partido</th>\n",
       "      <th>sequencial_candidato</th>\n",
       "      <th>numero_candidato</th>\n",
       "      <th>id_candidato_bd</th>\n",
       "      <th>votos</th>\n",
       "    </tr>\n",
       "  </thead>\n",
       "  <tbody>\n",
       "    <tr>\n",
       "      <th>0</th>\n",
       "      <td>2022</td>\n",
       "      <td>1</td>\n",
       "      <td>eleicao ordinaria</td>\n",
       "      <td>PB</td>\n",
       "      <td>2507507</td>\n",
       "      <td>20516</td>\n",
       "      <td>1</td>\n",
       "      <td>1</td>\n",
       "      <td>deputado estadual</td>\n",
       "      <td>10.0</td>\n",
       "      <td>REPUBLICANOS</td>\n",
       "      <td>1.500016e+11</td>\n",
       "      <td>10180</td>\n",
       "      <td>1126356.0</td>\n",
       "      <td>3</td>\n",
       "    </tr>\n",
       "    <tr>\n",
       "      <th>1</th>\n",
       "      <td>2022</td>\n",
       "      <td>1</td>\n",
       "      <td>eleicao ordinaria</td>\n",
       "      <td>PB</td>\n",
       "      <td>2507507</td>\n",
       "      <td>20516</td>\n",
       "      <td>1</td>\n",
       "      <td>1</td>\n",
       "      <td>deputado estadual</td>\n",
       "      <td>10.0</td>\n",
       "      <td>REPUBLICANOS</td>\n",
       "      <td>1.500016e+11</td>\n",
       "      <td>10190</td>\n",
       "      <td>1709709.0</td>\n",
       "      <td>2</td>\n",
       "    </tr>\n",
       "    <tr>\n",
       "      <th>2</th>\n",
       "      <td>2022</td>\n",
       "      <td>1</td>\n",
       "      <td>eleicao ordinaria</td>\n",
       "      <td>PB</td>\n",
       "      <td>2507507</td>\n",
       "      <td>20516</td>\n",
       "      <td>1</td>\n",
       "      <td>1</td>\n",
       "      <td>deputado estadual</td>\n",
       "      <td>10.0</td>\n",
       "      <td>REPUBLICANOS</td>\n",
       "      <td>1.500016e+11</td>\n",
       "      <td>10234</td>\n",
       "      <td>1575874.0</td>\n",
       "      <td>1</td>\n",
       "    </tr>\n",
       "    <tr>\n",
       "      <th>3</th>\n",
       "      <td>2022</td>\n",
       "      <td>1</td>\n",
       "      <td>eleicao ordinaria</td>\n",
       "      <td>PB</td>\n",
       "      <td>2507507</td>\n",
       "      <td>20516</td>\n",
       "      <td>1</td>\n",
       "      <td>1</td>\n",
       "      <td>deputado estadual</td>\n",
       "      <td>10.0</td>\n",
       "      <td>REPUBLICANOS</td>\n",
       "      <td>1.500016e+11</td>\n",
       "      <td>10345</td>\n",
       "      <td>1201455.0</td>\n",
       "      <td>1</td>\n",
       "    </tr>\n",
       "    <tr>\n",
       "      <th>4</th>\n",
       "      <td>2022</td>\n",
       "      <td>1</td>\n",
       "      <td>eleicao ordinaria</td>\n",
       "      <td>PB</td>\n",
       "      <td>2507507</td>\n",
       "      <td>20516</td>\n",
       "      <td>1</td>\n",
       "      <td>1</td>\n",
       "      <td>deputado estadual</td>\n",
       "      <td>10.0</td>\n",
       "      <td>REPUBLICANOS</td>\n",
       "      <td>1.500016e+11</td>\n",
       "      <td>10444</td>\n",
       "      <td>78716.0</td>\n",
       "      <td>4</td>\n",
       "    </tr>\n",
       "  </tbody>\n",
       "</table>\n",
       "</div>"
      ],
      "text/plain": [
       "    ano  turno       tipo_eleicao sigla_uf  id_municipio  id_municipio_tse  \\\n",
       "0  2022      1  eleicao ordinaria       PB       2507507             20516   \n",
       "1  2022      1  eleicao ordinaria       PB       2507507             20516   \n",
       "2  2022      1  eleicao ordinaria       PB       2507507             20516   \n",
       "3  2022      1  eleicao ordinaria       PB       2507507             20516   \n",
       "4  2022      1  eleicao ordinaria       PB       2507507             20516   \n",
       "\n",
       "   zona  secao              cargo  numero_partido sigla_partido  \\\n",
       "0     1      1  deputado estadual            10.0  REPUBLICANOS   \n",
       "1     1      1  deputado estadual            10.0  REPUBLICANOS   \n",
       "2     1      1  deputado estadual            10.0  REPUBLICANOS   \n",
       "3     1      1  deputado estadual            10.0  REPUBLICANOS   \n",
       "4     1      1  deputado estadual            10.0  REPUBLICANOS   \n",
       "\n",
       "   sequencial_candidato  numero_candidato  id_candidato_bd  votos  \n",
       "0          1.500016e+11             10180        1126356.0      3  \n",
       "1          1.500016e+11             10190        1709709.0      2  \n",
       "2          1.500016e+11             10234        1575874.0      1  \n",
       "3          1.500016e+11             10345        1201455.0      1  \n",
       "4          1.500016e+11             10444          78716.0      4  "
      ]
     },
     "execution_count": 16,
     "metadata": {},
     "output_type": "execute_result"
    }
   ],
   "source": [
    "df = pd.read_csv('https://raw.githubusercontent.com/NigGusta/ICD-Projeto-Final/main/csv/resultados_candidato_1oturno.csv')\n",
    "df.head()"
   ]
  },
  {
   "cell_type": "code",
   "execution_count": 17,
   "metadata": {},
   "outputs": [
    {
     "name": "stdout",
     "output_type": "stream",
     "text": [
      "<class 'pandas.core.frame.DataFrame'>\n",
      "RangeIndex: 33985 entries, 0 to 33984\n",
      "Data columns (total 15 columns):\n",
      " #   Column                Non-Null Count  Dtype  \n",
      "---  ------                --------------  -----  \n",
      " 0   ano                   33985 non-null  int64  \n",
      " 1   turno                 33985 non-null  int64  \n",
      " 2   tipo_eleicao          33985 non-null  object \n",
      " 3   sigla_uf              33985 non-null  object \n",
      " 4   id_municipio          33985 non-null  int64  \n",
      " 5   id_municipio_tse      33985 non-null  int64  \n",
      " 6   zona                  33985 non-null  int64  \n",
      " 7   secao                 33985 non-null  int64  \n",
      " 8   cargo                 33985 non-null  object \n",
      " 9   numero_partido        33939 non-null  float64\n",
      " 10  sigla_partido         33939 non-null  object \n",
      " 11  sequencial_candidato  33939 non-null  float64\n",
      " 12  numero_candidato      33985 non-null  int64  \n",
      " 13  id_candidato_bd       33939 non-null  float64\n",
      " 14  votos                 33985 non-null  int64  \n",
      "dtypes: float64(3), int64(8), object(4)\n",
      "memory usage: 3.9+ MB\n"
     ]
    }
   ],
   "source": [
    "df.info()"
   ]
  },
  {
   "cell_type": "code",
   "execution_count": 18,
   "metadata": {},
   "outputs": [
    {
     "data": {
      "text/plain": [
       "array([ 1, 64], dtype=int64)"
      ]
     },
     "execution_count": 18,
     "metadata": {},
     "output_type": "execute_result"
    }
   ],
   "source": [
    "df.zona.unique()"
   ]
  },
  {
   "cell_type": "code",
   "execution_count": 5,
   "metadata": {},
   "outputs": [
    {
     "data": {
      "text/html": [
       "<div>\n",
       "<style scoped>\n",
       "    .dataframe tbody tr th:only-of-type {\n",
       "        vertical-align: middle;\n",
       "    }\n",
       "\n",
       "    .dataframe tbody tr th {\n",
       "        vertical-align: top;\n",
       "    }\n",
       "\n",
       "    .dataframe thead th {\n",
       "        text-align: right;\n",
       "    }\n",
       "</style>\n",
       "<table border=\"1\" class=\"dataframe\">\n",
       "  <thead>\n",
       "    <tr style=\"text-align: right;\">\n",
       "      <th></th>\n",
       "      <th>turno</th>\n",
       "      <th>zona</th>\n",
       "      <th>secao</th>\n",
       "      <th>cargo</th>\n",
       "      <th>sigla_partido</th>\n",
       "      <th>numero_candidato</th>\n",
       "      <th>votos</th>\n",
       "    </tr>\n",
       "  </thead>\n",
       "  <tbody>\n",
       "    <tr>\n",
       "      <th>0</th>\n",
       "      <td>1</td>\n",
       "      <td>1</td>\n",
       "      <td>1</td>\n",
       "      <td>deputado estadual</td>\n",
       "      <td>REPUBLICANOS</td>\n",
       "      <td>10180</td>\n",
       "      <td>3</td>\n",
       "    </tr>\n",
       "    <tr>\n",
       "      <th>1</th>\n",
       "      <td>1</td>\n",
       "      <td>1</td>\n",
       "      <td>1</td>\n",
       "      <td>deputado estadual</td>\n",
       "      <td>REPUBLICANOS</td>\n",
       "      <td>10190</td>\n",
       "      <td>2</td>\n",
       "    </tr>\n",
       "    <tr>\n",
       "      <th>2</th>\n",
       "      <td>1</td>\n",
       "      <td>1</td>\n",
       "      <td>1</td>\n",
       "      <td>deputado estadual</td>\n",
       "      <td>REPUBLICANOS</td>\n",
       "      <td>10234</td>\n",
       "      <td>1</td>\n",
       "    </tr>\n",
       "    <tr>\n",
       "      <th>3</th>\n",
       "      <td>1</td>\n",
       "      <td>1</td>\n",
       "      <td>1</td>\n",
       "      <td>deputado estadual</td>\n",
       "      <td>REPUBLICANOS</td>\n",
       "      <td>10345</td>\n",
       "      <td>1</td>\n",
       "    </tr>\n",
       "    <tr>\n",
       "      <th>4</th>\n",
       "      <td>1</td>\n",
       "      <td>1</td>\n",
       "      <td>1</td>\n",
       "      <td>deputado estadual</td>\n",
       "      <td>REPUBLICANOS</td>\n",
       "      <td>10444</td>\n",
       "      <td>4</td>\n",
       "    </tr>\n",
       "  </tbody>\n",
       "</table>\n",
       "</div>"
      ],
      "text/plain": [
       "   turno  zona  secao              cargo sigla_partido  numero_candidato  \\\n",
       "0      1     1      1  deputado estadual  REPUBLICANOS             10180   \n",
       "1      1     1      1  deputado estadual  REPUBLICANOS             10190   \n",
       "2      1     1      1  deputado estadual  REPUBLICANOS             10234   \n",
       "3      1     1      1  deputado estadual  REPUBLICANOS             10345   \n",
       "4      1     1      1  deputado estadual  REPUBLICANOS             10444   \n",
       "\n",
       "   votos  \n",
       "0      3  \n",
       "1      2  \n",
       "2      1  \n",
       "3      1  \n",
       "4      4  "
      ]
     },
     "execution_count": 5,
     "metadata": {},
     "output_type": "execute_result"
    }
   ],
   "source": [
    "#Filtrando as colunas de interesse\n",
    "colunas = ['turno', 'zona', 'secao', 'cargo', 'sigla_partido', 'numero_candidato', 'votos']\n",
    "df = df[colunas]\n",
    "df.head()"
   ]
  },
  {
   "cell_type": "code",
   "execution_count": 14,
   "metadata": {},
   "outputs": [
    {
     "data": {
      "text/plain": [
       "array([ 1, 64], dtype=int64)"
      ]
     },
     "execution_count": 14,
     "metadata": {},
     "output_type": "execute_result"
    }
   ],
   "source": [
    "df.zona.unique()"
   ]
  },
  {
   "cell_type": "code",
   "execution_count": 11,
   "metadata": {},
   "outputs": [
    {
     "data": {
      "text/plain": [
       "zona  sigla_partido\n",
       "1     DC                13\n",
       "      NOVO             321\n",
       "      PCB               28\n",
       "      PSTU              16\n",
       "      PTB               51\n",
       "      UNIÃO            298\n",
       "      UP                58\n",
       "64    DC                 9\n",
       "      NOVO              87\n",
       "      PCB               16\n",
       "      PSTU              12\n",
       "      PTB               26\n",
       "      UNIÃO            136\n",
       "      UP                10\n",
       "Name: votos, dtype: int64"
      ]
     },
     "execution_count": 11,
     "metadata": {},
     "output_type": "execute_result"
    }
   ],
   "source": [
    "#Filtrando por cargo\n",
    "filtro = df['cargo'] == 'presidente'\n",
    "colunas = ['zona', 'sigla_partido']\n",
    "df_presidente = df[filtro]\n",
    "df_presidente\n",
    "df_presidente.groupby(colunas)['votos'].sum()\n"
   ]
  },
  {
   "cell_type": "code",
   "execution_count": null,
   "metadata": {},
   "outputs": [],
   "source": []
  }
 ],
 "metadata": {
  "kernelspec": {
   "display_name": "Python 3.9.12 ('base')",
   "language": "python",
   "name": "python3"
  },
  "language_info": {
   "codemirror_mode": {
    "name": "ipython",
    "version": 3
   },
   "file_extension": ".py",
   "mimetype": "text/x-python",
   "name": "python",
   "nbconvert_exporter": "python",
   "pygments_lexer": "ipython3",
   "version": "3.9.12"
  },
  "orig_nbformat": 4,
  "vscode": {
   "interpreter": {
    "hash": "3a0de9df006df342b5e4296aedaeaf87f8585c794651fec65fd5881a82402807"
   }
  }
 },
 "nbformat": 4,
 "nbformat_minor": 2
}
